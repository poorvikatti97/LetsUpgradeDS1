{
 "cells": [
  {
   "cell_type": "markdown",
   "metadata": {},
   "source": [
    "# Assignment 3"
   ]
  },
  {
   "cell_type": "raw",
   "metadata": {},
   "source": [
    "Question 1:Create a numpy array starting from 2 till 50 with a stepsize of 3."
   ]
  },
  {
   "cell_type": "code",
   "execution_count": 1,
   "metadata": {},
   "outputs": [
    {
     "data": {
      "text/plain": [
       "array([ 2,  5,  8, 11, 14, 17, 20, 23, 26, 29, 32, 35, 38, 41, 44, 47, 50])"
      ]
     },
     "execution_count": 1,
     "metadata": {},
     "output_type": "execute_result"
    }
   ],
   "source": [
    "import numpy as np\n",
    "#numpy.arange(start,stop,step)\n",
    "np.arange(2,51,3)"
   ]
  },
  {
   "cell_type": "raw",
   "metadata": {},
   "source": [
    "Question 2:\n",
    "Accept two lists of 5 elements each from the user.\n",
    "Convert them to numpy arrays. Concatenate these arrays and print it. Also sort these arrays and print it."
   ]
  },
  {
   "cell_type": "code",
   "execution_count": 2,
   "metadata": {},
   "outputs": [
    {
     "name": "stdout",
     "output_type": "stream",
     "text": [
      "1\n",
      "2\n",
      "3\n",
      "4\n",
      "5\n",
      "6\n",
      "7\n",
      "8\n",
      "9\n",
      "1\n",
      "[1, 2, 3, 4, 5]\n",
      "[6, 7, 8, 9, 1]\n",
      "[1 2 3 4 5 6 7 8 9 1]\n",
      "[1 1 2 3 4 5 6 7 8 9]\n"
     ]
    }
   ],
   "source": [
    "import numpy as np\n",
    "\n",
    "#Accept two lists of 5 elements each from user\n",
    "#Declare empty lists to where you want to append user input\n",
    "list1=[]\n",
    "list2=[]\n",
    "#Given 5 elements to accept for each list from user\n",
    "for i in range(5):\n",
    "    #Accepting 5 elements for list1\n",
    "    n1=int(input())\n",
    "    #Adding the user input to list1\n",
    "    list1.append(n1)\n",
    "for j in range(5):\n",
    "    #Accepting 5 elements for list2\n",
    "    n2=int(input())\n",
    "    #Adding the user input to list2\n",
    "    list2.append(n2)\n",
    "#Displaying the lists\n",
    "print(list1)\n",
    "print(list2)\n",
    "\n",
    "#Converting list into numpy arrrays\n",
    "array1=np.array(list1)\n",
    "array2=np.array(list2)\n",
    "\n",
    "#Concatenating arrays\n",
    "array3=np.concatenate((array1,array2))\n",
    "print(array3)\n",
    "#Sorting arrays\n",
    "print(np.sort(array3))"
   ]
  },
  {
   "cell_type": "raw",
   "metadata": {},
   "source": [
    "Question 3:Write a code snippet to find the dimensions of a ndarray and its size."
   ]
  },
  {
   "cell_type": "code",
   "execution_count": 3,
   "metadata": {},
   "outputs": [
    {
     "name": "stdout",
     "output_type": "stream",
     "text": [
      "No. of dimensions:  2\n",
      "Shape of array:  (2, 3)\n",
      "Size of array:  6\n"
     ]
    }
   ],
   "source": [
    "import numpy as np\n",
    " \n",
    "# Creating array object\n",
    "arr = np.array( [[ 1, 2, 3],\n",
    "                 [ 4, 2, 5]] )\n",
    "# Printing array dimensions\n",
    "print(\"No. of dimensions: \", arr.ndim)\n",
    " \n",
    "# Printing shape of array\n",
    "print(\"Shape of array: \", arr.shape)\n",
    " \n",
    "# Printing size (total number of elements) of array\n",
    "print(\"Size of array: \", arr.size)\n"
   ]
  },
  {
   "cell_type": "raw",
   "metadata": {},
   "source": [
    "Question 4:\n",
    "Convert a 1D array into a 2D array with the help of a code snippet\n",
    "Hint: np.newaxis, np.expand_dims"
   ]
  },
  {
   "cell_type": "code",
   "execution_count": 4,
   "metadata": {},
   "outputs": [
    {
     "name": "stdout",
     "output_type": "stream",
     "text": [
      "10\n",
      "Test 1D array (shape) : (10,)\n",
      "Test 2D array for row is : (1, 10)\n",
      "Test 2D array for column is : (10, 1)\n"
     ]
    }
   ],
   "source": [
    "import numpy as np\n",
    "\n",
    "arr=np.arange(int(input()))\n",
    "print(\"Test 1D array (shape) :\",arr.shape)\n",
    "\n",
    "two_d_array_row=arr[np.newaxis]\n",
    "print(\"Test 2D array for row is :\",two_d_array_row.shape)\n",
    "\n",
    "two_d_array_col=arr[:, np.newaxis]\n",
    "print(\"Test 2D array for column is :\",two_d_array_col.shape)"
   ]
  },
  {
   "cell_type": "raw",
   "metadata": {},
   "source": [
    "Question 5:\n",
    "Consider two square numpy arrays. Stack them vertically and horizontally.\n",
    "Hint: Use vstack(), hstack()"
   ]
  },
  {
   "cell_type": "code",
   "execution_count": 5,
   "metadata": {},
   "outputs": [
    {
     "name": "stdout",
     "output_type": "stream",
     "text": [
      "Horizontally stacked:\n",
      "[[ 1  2  3  7  8  9]\n",
      " [ 4  5  6 10 11 12]]\n",
      "--------------------\n",
      "Vertically stacked\n",
      "[[ 1  2  3]\n",
      " [ 4  5  6]\n",
      " [ 7  8  9]\n",
      " [10 11 12]]\n",
      "--------------------\n"
     ]
    }
   ],
   "source": [
    "import numpy as np\n",
    "array1 = np.array([[1, 2, 3], [4, 5, 6]])\n",
    "array2 = np.array([[7, 8, 9], [10, 11, 12]])\n",
    " \n",
    "# Stack arrays in sequence horizontally (column wise).\n",
    "print(\"Horizontally stacked:\")\n",
    "arrayH = np.hstack((array1, array2))\n",
    "print(arrayH)\n",
    " \n",
    "print(\"-\" * 20)\n",
    " \n",
    "# Stack arrays in sequence vertically (row wise).\n",
    "print(\"Vertically stacked\")\n",
    "arrayV = np.vstack((array1, array2))\n",
    "print(arrayV)\n",
    " \n",
    "print(\"-\" * 20)"
   ]
  },
  {
   "cell_type": "raw",
   "metadata": {},
   "source": [
    "Question 6:Write a program to get unique items and counts of unique items"
   ]
  },
  {
   "cell_type": "code",
   "execution_count": 6,
   "metadata": {},
   "outputs": [
    {
     "name": "stdout",
     "output_type": "stream",
     "text": [
      "[[4 3]\n",
      " [5 2]\n",
      " [6 1]\n",
      " [7 1]\n",
      " [8 1]\n",
      " [9 1]]\n"
     ]
    }
   ],
   "source": [
    "import numpy as np\n",
    "\n",
    "arr=np.array([4,7,8,9,5,6,5,4,4])\n",
    "\n",
    "unique,counts=np.unique(arr,return_counts=True)\n",
    "arr=np.asarray((unique,counts)).T\n",
    "print(arr)"
   ]
  }
 ],
 "metadata": {
  "kernelspec": {
   "display_name": "Python 3",
   "language": "python",
   "name": "python3"
  },
  "language_info": {
   "codemirror_mode": {
    "name": "ipython",
    "version": 3
   },
   "file_extension": ".py",
   "mimetype": "text/x-python",
   "name": "python",
   "nbconvert_exporter": "python",
   "pygments_lexer": "ipython3",
   "version": "3.6.1"
  }
 },
 "nbformat": 4,
 "nbformat_minor": 2
}
